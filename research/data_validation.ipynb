{
 "cells": [
  {
   "cell_type": "code",
   "execution_count": 1,
   "metadata": {},
   "outputs": [
    {
     "data": {
      "text/plain": [
       "'/Users/sanju/Documents/DS/MLOps/data_science_project/research'"
      ]
     },
     "execution_count": 1,
     "metadata": {},
     "output_type": "execute_result"
    }
   ],
   "source": [
    "import os\n",
    "%pwd"
   ]
  },
  {
   "cell_type": "code",
   "execution_count": 2,
   "metadata": {},
   "outputs": [],
   "source": [
    "os.chdir(\"..\")"
   ]
  },
  {
   "cell_type": "code",
   "execution_count": 3,
   "metadata": {},
   "outputs": [
    {
     "data": {
      "text/plain": [
       "'/Users/sanju/Documents/DS/MLOps/data_science_project'"
      ]
     },
     "execution_count": 3,
     "metadata": {},
     "output_type": "execute_result"
    }
   ],
   "source": [
    "%pwd"
   ]
  },
  {
   "cell_type": "code",
   "execution_count": 4,
   "metadata": {},
   "outputs": [],
   "source": [
    "import pandas as pd"
   ]
  },
  {
   "cell_type": "code",
   "execution_count": 5,
   "metadata": {},
   "outputs": [
    {
     "name": "stdout",
     "output_type": "stream",
     "text": [
      "<class 'pandas.core.frame.DataFrame'>\n",
      "RangeIndex: 1599 entries, 0 to 1598\n",
      "Data columns (total 12 columns):\n",
      " #   Column                Non-Null Count  Dtype  \n",
      "---  ------                --------------  -----  \n",
      " 0   fixed acidity         1599 non-null   float64\n",
      " 1   volatile acidity      1599 non-null   float64\n",
      " 2   citric acid           1599 non-null   float64\n",
      " 3   residual sugar        1599 non-null   float64\n",
      " 4   chlorides             1599 non-null   float64\n",
      " 5   free sulfur dioxide   1599 non-null   float64\n",
      " 6   total sulfur dioxide  1599 non-null   float64\n",
      " 7   density               1599 non-null   float64\n",
      " 8   pH                    1599 non-null   float64\n",
      " 9   sulphates             1599 non-null   float64\n",
      " 10  alcohol               1599 non-null   float64\n",
      " 11  quality               1599 non-null   int64  \n",
      "dtypes: float64(11), int64(1)\n",
      "memory usage: 150.0 KB\n"
     ]
    }
   ],
   "source": [
    "data=pd.read_csv(\"artifacts/data_ingestion/winequality-red.csv\")\n",
    "data.info()"
   ]
  },
  {
   "cell_type": "code",
   "execution_count": 6,
   "metadata": {},
   "outputs": [],
   "source": [
    "from src.data_science_project.entity.config_entity import DataValidationConfig\n",
    "from src.data_science_project.constants import CONFIG_FILE_PATH\n",
    "from src.data_science_project.utils.common import read_yaml,create_dir"
   ]
  },
  {
   "cell_type": "code",
   "execution_count": 7,
   "metadata": {},
   "outputs": [
    {
     "name": "stdout",
     "output_type": "stream",
     "text": [
      "2024-12-03 14:02:53,972 - INFO -common - Yaml file has been Read Sucessfully....\n",
      "2024-12-03 14:02:53,973 - INFO -common - Yaml file has been Read Sucessfully....\n",
      "2024-12-03 14:02:53,974 - INFO -common - a Directory has been created on artifacts/data_validation Location...\n",
      "DotMap(COLUMNS=DotMap(fixed acidity='float64', volatile acidity='float64', citric acid='float64', residual sugar='float64', chlorides='float64', free sulfur dioxide='float64', total sulfur dioxide='float64', density='float64', pH='float64', sulphates='float64', alcohol='float64', quality='int64'), TARGET_COLUMN=DotMap(name='quality'))\n"
     ]
    }
   ],
   "source": [
    "# Config/Configuration.py has been started......\n",
    "\n",
    "from src.data_science_project.entity.config_entity import DataValidationConfig\n",
    "from src.data_science_project.constants import CONFIG_FILE_PATH,SCHEMA_FILE_PATH\n",
    "from src.data_science_project.utils.common import read_yaml,create_dir\n",
    "\n",
    "\n",
    "\n",
    "class ConfigurationManager:\n",
    "    def __init__(self,config_filepath=CONFIG_FILE_PATH,\n",
    "                 schema_filepath=SCHEMA_FILE_PATH):\n",
    "        self.config=read_yaml(config_filepath)\n",
    "        self.schema=read_yaml(schema_filepath)\n",
    "        create_dir([self.config.data_validation.root_dir])\n",
    "\n",
    "\n",
    "    def get_data_validation_config(self) -> DataValidationConfig:\n",
    "        config=self.config.data_validation\n",
    "        schema=self.schema\n",
    "        print(schema)\n",
    "        data_validation_config=DataValidationConfig(\n",
    "            root_dir=config.root_dir,\n",
    "            unzip_data_file=config.unzip_data_file,\n",
    "            STATUS_FILE=config.STATUS_FILE,\n",
    "            all_schema=schema\n",
    "        )\n",
    "        return data_validation_config\n",
    "\n",
    "\n",
    "obj=ConfigurationManager()\n",
    "data_validatiaon_obj=obj.get_data_validation_config()"
   ]
  },
  {
   "cell_type": "code",
   "execution_count": null,
   "metadata": {},
   "outputs": [
    {
     "name": "stdout",
     "output_type": "stream",
     "text": [
      "['fixed acidity', 'volatile acidity', 'citric acid', 'residual sugar', 'chlorides', 'free sulfur dioxide', 'total sulfur dioxide', 'density', 'pH', 'sulphates', 'alcohol', 'quality']\n",
      "['fixed acidity', 'volatile acidity', 'citric acid', 'residual sugar', 'chlorides', 'free sulfur dioxide', 'total sulfur dioxide', 'density', 'pH', 'sulphates', 'alcohol', 'quality']\n",
      "['fixed acidity', 'volatile acidity', 'citric acid', 'residual sugar', 'chlorides', 'free sulfur dioxide', 'total sulfur dioxide', 'density', 'pH', 'sulphates', 'alcohol', 'quality']\n",
      "2024-12-03 14:02:53,984 - INFO -3019279649 - Validation Status has been updated....\n"
     ]
    }
   ],
   "source": [
    "## src/componenets/data_validation.py  started.....\n",
    "\n",
    "from src.data_science_project.entity.config_entity import DataValidationConfig\n",
    "from src.data_science_project import Logger\n",
    "\n",
    "\n",
    "class DataValidation:\n",
    "    def __init__(self,config:DataValidationConfig):\n",
    "        self.config=config\n",
    "        \n",
    "\n",
    "    def validate_all_columns(self):\n",
    "        try:\n",
    "            data=pd.read_csv(self.config.unzip_data_file)\n",
    "            cols=list(data.columns)\n",
    "            schema=self.config.all_schema.COLUMNS.keys()\n",
    "            status=None\n",
    "            for col in cols:\n",
    "                if col in list(schema):\n",
    "                    status=True\n",
    "                    with open(self.config.STATUS_FILE,\"w\") as f:\n",
    "                        f.write(f\"Validation Status: {status}\")\n",
    "                else:\n",
    "                    status=False\n",
    "                    with open(self.config.STATUS_FILE, \"w\") as f:\n",
    "                        f.write(f\"Validation Status: {status}\")\n",
    "\n",
    "            Logger.info(\"Validation Status has been updated....\")\n",
    "\n",
    "\n",
    "        except Exception as e:\n",
    "            raise e\n",
    "        \n",
    "\n",
    "obj1=DataValidation(data_validatiaon_obj)\n",
    "obj1.validate_all_columns()"
   ]
  },
  {
   "cell_type": "code",
   "execution_count": null,
   "metadata": {},
   "outputs": [],
   "source": [
    "## src/Pipeline/data_validation_pipeline  has started.....\n",
    "\n",
    "# from src.data_science_project.config.configuration import ConfigurationManager\n",
    "# from src.data_science_project.components.data_validation import \n",
    "\n",
    "\n",
    "# class DataValidationPipeline:\n",
    "#     def __init__(self):\n",
    "#         pass\n",
    "\n",
    "#     def initiate_data_validation(self):\n",
    "        # config=ConfigurationManager()\n"
   ]
  },
  {
   "cell_type": "code",
   "execution_count": null,
   "metadata": {},
   "outputs": [],
   "source": []
  }
 ],
 "metadata": {
  "kernelspec": {
   "display_name": "myenv",
   "language": "python",
   "name": "python3"
  },
  "language_info": {
   "codemirror_mode": {
    "name": "ipython",
    "version": 3
   },
   "file_extension": ".py",
   "mimetype": "text/x-python",
   "name": "python",
   "nbconvert_exporter": "python",
   "pygments_lexer": "ipython3",
   "version": "3.12.4"
  }
 },
 "nbformat": 4,
 "nbformat_minor": 2
}
